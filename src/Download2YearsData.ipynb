{
 "cells": [
  {
   "cell_type": "code",
   "execution_count": null,
   "metadata": {},
   "outputs": [],
   "source": [
    "!pip install python-binance"
   ]
  },
  {
   "cell_type": "code",
   "execution_count": null,
   "metadata": {},
   "outputs": [],
   "source": [
    "from binance.client import Client\n",
    "import pandas as pd\n",
    "from websocket import create_connection\n",
    "from datetime import datetime, timedelta\n",
    "\n",
    "import csv\n",
    "import os\n",
    "import time\n",
    "import datetime\n",
    "import numpy as np\n",
    "import dateparser as dp\n",
    "from tqdm import tqdm\n",
    "import psutil\n",
    "import boto3"
   ]
  },
  {
   "cell_type": "code",
   "execution_count": null,
   "metadata": {},
   "outputs": [],
   "source": [
    "client = Client(<binance_key>, <binance_secret>, {\"verify\": True, \"timeout\": 20})\n",
    "\n",
    "client.ping()\n",
    "time_res = client.get_server_time()\n",
    "sysStatus = client.get_system_status()\n",
    "exchinfo = client.get_exchange_info()\n",
    "dfColumns = ['Open','High','Low','Close','Volume','Close Time','Quote Asset Volume','Number of Trades','Taker buy base asset volume','Taker buy quote asset volume','Ignore']"
   ]
  },
  {
   "cell_type": "code",
   "execution_count": null,
   "metadata": {},
   "outputs": [],
   "source": [
    "btcPairedSymbols = [exchinfo.get('symbols')[i].get('symbol') for i in range(len(exchinfo.get('symbols'))) if exchinfo.get('symbols')[i].get('quoteAsset') == 'BTC']\n",
    "\n",
    "len(btcPairedSymbols)"
   ]
  },
  {
   "cell_type": "code",
   "execution_count": null,
   "metadata": {},
   "outputs": [],
   "source": [
    "dataLocationCommonPath = <path_to_download_dir_on_s3_bucket>\n",
    "s3Url = <s3_URL>\n",
    "BUCKET_NAME = <s3_bucket_name>"
   ]
  },
  {
   "cell_type": "markdown",
   "metadata": {},
   "source": [
    "### Downloading data for BTC paired coins"
   ]
  },
  {
   "cell_type": "code",
   "execution_count": null,
   "metadata": {
    "scrolled": false
   },
   "outputs": [],
   "source": [
    "s3 = boto3.resource('s3')\n",
    "my_bucket = s3.Bucket(BUCKET_NAME)\n",
    "\n",
    "downloadedException = True\n",
    "\n",
    "fromdate = '1 Jan, 2018'\n",
    "todate = '1 Jan, 2020'\n",
    "\n",
    "fromdatetime = dp.parse(fromdate).strftime('%Y-%m-%d_%H%M%S')\n",
    "todatetime = dp.parse(todate).strftime('%Y-%m-%d_%H%M%S')\n",
    "\n",
    "while(downloadedException == True):\n",
    "    try:\n",
    "        downloadedException = False\n",
    "\n",
    "        for sym in tqdm(btcPairedSymbols):\n",
    "            alreadyDownloaded = False\n",
    "\n",
    "            for my_bucket_object in my_bucket.objects.filter(Prefix=dataLocationCommonPath):\n",
    "                if ('.csv' in my_bucket_object.key) and (my_bucket_object.key.split('/')[-1].split('_')[0] == sym):\n",
    "                    alreadyDownloaded = True\n",
    "                    break\n",
    "\n",
    "            if alreadyDownloaded == True:\n",
    "                continue\n",
    "\n",
    "            print(\"Creating dataframe for: \" + sym + \"*\"*50)\n",
    "            print(psutil.virtual_memory())\n",
    "\n",
    "            klines = client.get_historical_klines(sym, Client.KLINE_INTERVAL_1MINUTE, fromdate, todate)\n",
    "            if (len(klines) > 0):\n",
    "                df = pd.DataFrame(klines)\n",
    "                df[0] = pd.to_datetime(df[0], unit='ms')\n",
    "                df.set_index(0, inplace=True)\n",
    "                df.columns = dfColumns\n",
    "                df.to_csv(s3Url + sym + \"_from_\" + fromdatetime + \"_To_\" + todatetime + '.csv', index=True)\n",
    "            else:\n",
    "                print(\"Data not retrieved from symbol:\" + sym)\n",
    "    except:\n",
    "        print(\"Symbol [%s] was skipped due to exeception\" %sym)\n",
    "        downloadedException = True\n",
    "        time.sleep(10)"
   ]
  }
 ],
 "metadata": {
  "kernelspec": {
   "display_name": "conda_python3",
   "language": "python",
   "name": "conda_python3"
  },
  "language_info": {
   "codemirror_mode": {
    "name": "ipython",
    "version": 3
   },
   "file_extension": ".py",
   "mimetype": "text/x-python",
   "name": "python",
   "nbconvert_exporter": "python",
   "pygments_lexer": "ipython3",
   "version": "3.6.13"
  }
 },
 "nbformat": 4,
 "nbformat_minor": 4
}
