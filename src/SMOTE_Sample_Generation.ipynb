{
 "cells": [
  {
   "cell_type": "code",
   "execution_count": null,
   "id": "f22cf247",
   "metadata": {},
   "outputs": [],
   "source": [
    "!pip install dateparser"
   ]
  },
  {
   "cell_type": "code",
   "execution_count": null,
   "id": "2a35155d",
   "metadata": {},
   "outputs": [],
   "source": [
    "!pip install imblearn"
   ]
  },
  {
   "cell_type": "code",
   "execution_count": null,
   "id": "35d5aa77",
   "metadata": {},
   "outputs": [],
   "source": [
    "import os\n",
    "import boto3\n",
    "import pandas as pd\n",
    "import sys\n",
    "from datetime import datetime\n",
    "from datetime import timedelta \n",
    "from matplotlib import pyplot\n",
    "import numpy as np\n",
    "import matplotlib.pyplot as plt\n",
    "import io\n",
    "import time\n",
    "from sklearn.preprocessing import MinMaxScaler\n",
    "import gc\n",
    "import psutil"
   ]
  },
  {
   "cell_type": "code",
   "execution_count": null,
   "id": "195a6c11",
   "metadata": {},
   "outputs": [],
   "source": [
    "BUCKET_NAME = <s3_bucket_name>\n",
    "DATA_POINTS_PER_WINDOW = 21\n",
    "s3Res = boto3.resource('s3')\n",
    "bucket = s3Res.Bucket(BUCKET_NAME)\n",
    "labelledDataCommonPath = <path_to_labelleddata_dir_on_s3>\n",
    "s3Client = boto3.client('s3')"
   ]
  },
  {
   "cell_type": "code",
   "execution_count": null,
   "id": "dfb02947",
   "metadata": {},
   "outputs": [],
   "source": [
    "my_bucket = s3Res.Bucket(BUCKET_NAME)"
   ]
  },
  {
   "cell_type": "code",
   "execution_count": null,
   "id": "ebc9725a",
   "metadata": {},
   "outputs": [],
   "source": [
    "fileName='<path>/DetectedAnomalies_reviewed.csv'\n",
    "\n",
    "obj = s3Client.get_object(Bucket = BUCKET_NAME, Key = fileName)\n",
    "reviewedLabelsDf = pd.read_csv(obj['Body'])\n",
    "reviewedLabelsDf.head()"
   ]
  },
  {
   "cell_type": "code",
   "execution_count": null,
   "id": "9e3e2bf4",
   "metadata": {},
   "outputs": [],
   "source": [
    "[f for f in reviewedLabelsDf[reviewedLabelsDf.Agree==1].FileName]"
   ]
  },
  {
   "cell_type": "code",
   "execution_count": null,
   "id": "dbd39618",
   "metadata": {},
   "outputs": [],
   "source": [
    "csvFileList = []\n",
    "\n",
    "for my_bucket_object in my_bucket.objects.filter(Prefix='{}/EnrichedData_15P_PND/'.format(commonPath)):\n",
    "    if '.csv' in my_bucket_object.key:\n",
    "        print(my_bucket_object.key)\n",
    "        csvFileList.append(my_bucket_object.key)"
   ]
  },
  {
   "cell_type": "code",
   "execution_count": null,
   "id": "e1b92f4e",
   "metadata": {},
   "outputs": [],
   "source": [
    "def insertleftRightWindowFeatues(df, featureName, windowSize=10):\n",
    "    for i in range(1, windowSize+1):\n",
    "        df[\"{} t-{}\".format(featureName, i)] = df[featureName].shift(-i).fillna(method='ffill')\n",
    "    \n",
    "    for i in range(1, windowSize+1):\n",
    "        df[\"{} t+{}\".format(featureName, i)] = df[featureName].shift(i).fillna(method='backfill')"
   ]
  },
  {
   "cell_type": "code",
   "execution_count": null,
   "id": "c7d56322",
   "metadata": {
    "scrolled": true
   },
   "outputs": [],
   "source": [
    "bigDataframe = pd.DataFrame()\n",
    "\n",
    "for file_name in reviewedLabelsDf.FileName.unique():\n",
    "    coin_name = file_name.split('/')[-1].split('_')[1]\n",
    "    \n",
    "    print('Reviewed coin name={}'.format(coin_name))\n",
    "    \n",
    "    obj = s3Client.get_object(Bucket = BUCKET_NAME, Key = file_name)\n",
    "    df = pd.read_csv(obj['Body'], index_col='0', parse_dates=True)\n",
    "    df['Coin'] = coin_name\n",
    "    \n",
    "    insertleftRightWindowFeatues(df, 'Price', 10)\n",
    "    insertleftRightWindowFeatues(df, 'Volume', 10)\n",
    "    insertleftRightWindowFeatues(df, 'Close', 10)\n",
    "    insertleftRightWindowFeatues(df, 'High', 10)\n",
    "    \n",
    "    df['Label'] = 0\n",
    "    \n",
    "    positiveIndexes = reviewedLabelsDf[(reviewedLabelsDf.FileName==file_name) & (reviewedLabelsDf.Agree==1)].TimestampIndexes\n",
    "    print(positiveIndexes)\n",
    "    \n",
    "    for posIndex in positiveIndexes:\n",
    "        df.loc[posIndex, 'Label'] = 1\n",
    "\n",
    "    df.drop(['Number of Trades', 'isOpenToClosePriceAbove15P', 'isWindowClosingTurnoverSignificant', 'isLeftWindowPumping', 'isRightWindowDumping','Turnover','Open','Low'],\n",
    "                axis=1, inplace=True)\n",
    "     \n",
    "    positiveCasesDf = df[df.Label==1]\n",
    "    negativeCasesDf = df[df.Label==0].sample(frac=0.0001, random_state=33)\n",
    "    \n",
    "    negativeIndexes = reviewedLabelsDf[(reviewedLabelsDf.FileName==file_name) & (reviewedLabelsDf.Agree==0)].TimestampIndexes   \n",
    "    negativeCasesTricky = df.loc[negativeIndexes]\n",
    "    \n",
    "    bigDataframe = pd.concat([bigDataframe, positiveCasesDf], axis=0)\n",
    "    bigDataframe = pd.concat([bigDataframe, negativeCasesDf], axis=0)\n",
    "    bigDataframe = pd.concat([bigDataframe, negativeCasesTricky], axis=0)\n",
    "    \n",
    "    del positiveCasesDf\n",
    "    del negativeCasesDf\n",
    "    del negativeCasesTricky\n",
    "    del df"
   ]
  },
  {
   "cell_type": "code",
   "execution_count": null,
   "id": "d96d1a26",
   "metadata": {},
   "outputs": [],
   "source": [
    "import seaborn as sns\n",
    "from matplotlib.legend_handler import HandlerBase\n",
    "from matplotlib.text import Text\n",
    "\n",
    "ax=sns.countplot(x=bigDataframe.Label)\n",
    "ax.set_yscale(\"log\")\n",
    "\n",
    "class TextHandler(HandlerBase):\n",
    "    def create_artists(self, legend, tup ,xdescent, ydescent,\n",
    "                        width, height, fontsize,trans):\n",
    "        tx = Text(width/2.,height/2,tup[0], fontsize=fontsize,\n",
    "                  ha=\"center\", va=\"center\", color=tup[1], fontweight=\"bold\")\n",
    "        return [tx]\n",
    "    \n",
    "handltext = [\"0\", \"1\"]\n",
    "labels = [\"Non-PND\", \"PND\"]\n",
    "\n",
    "t = ax.get_xticklabels()\n",
    "labeldic = dict(zip(handltext, labels))\n",
    "labels = [labeldic[h.get_text()]  for h in t]\n",
    "handles = [(h.get_text(),c.get_fc()) for h,c in zip(t,ax.patches)]\n",
    "\n",
    "ax.legend(handles, labels, handler_map={tuple : TextHandler()} )"
   ]
  },
  {
   "cell_type": "code",
   "execution_count": null,
   "id": "f8017f81",
   "metadata": {},
   "outputs": [],
   "source": [
    "from collections import Counter\n",
    "from matplotlib import pyplot\n",
    "from numpy import where\n",
    "\n",
    "counter = Counter(bigDataframe.Label)"
   ]
  },
  {
   "cell_type": "code",
   "execution_count": null,
   "id": "a6b7c93a",
   "metadata": {},
   "outputs": [],
   "source": [
    "y = bigDataframe.Label"
   ]
  },
  {
   "cell_type": "code",
   "execution_count": null,
   "id": "5204a2bd",
   "metadata": {},
   "outputs": [],
   "source": [
    "X = bigDataframe.loc[:,['Price t-10', 'Price t-9','Price t-8','Price t-7','Price t-6','Price t-5','Price t-4','Price t-3','Price t-2','Price t-1','Price',\n",
    "                      'Price t+1','Price t+2','Price t+3','Price t+4','Price t+5','Price t+6','Price t+7','Price t+8','Price t+9','Price t+10',\n",
    "                     'Volume t-10', 'Volume t-9', 'Volume t-8', 'Volume t-7', 'Volume t-6', 'Volume t-5', 'Volume t-4', 'Volume t-3', \n",
    "                     'Volume t-2', 'Volume t-1', 'Volume', 'Volume t+1', 'Volume t+2', 'Volume t+3', 'Volume t+4', 'Volume t+5', 'Volume t+6', 'Volume t+7', 'Volume t+8', 'Volume t+9', 'Volume t+10',\n",
    "                     'Close t-10', 'Close t-9', 'Close t-8', 'Close t-7', 'Close t-6', 'Close t-5', 'Close t-4', 'Close t-3', 'Close t-2', 'Close t-1', 'Close', 'Close t+1', 'Close t+2',\n",
    "                     'Close t+3', 'Close t+4', 'Close t+5', 'Close t+6', 'Close t+7', 'Close t+8', 'Close t+9', 'Close t+10',\n",
    "                     'High t-10', 'High t-9', 'High t-8', 'High t-7', 'High t-6', 'High t-5', 'High t-4', 'High t-3', 'High t-2', 'High t-1', 'High', \n",
    "                     'High t+1', 'High t+2', 'High t+3', 'High t+4', 'High t+5', 'High t+6', 'High t+7', 'High t+8', 'High t+9', 'High t+10' ]]"
   ]
  },
  {
   "cell_type": "code",
   "execution_count": null,
   "id": "c5b2ea45",
   "metadata": {},
   "outputs": [],
   "source": [
    "from imblearn.over_sampling import SMOTE\n",
    "from imblearn.under_sampling import RandomUnderSampler\n",
    "from imblearn.pipeline import Pipeline\n",
    "\n",
    "over = SMOTE(sampling_strategy=0.9, random_state=17)\n",
    "under = RandomUnderSampler(sampling_strategy=1)\n",
    "steps = [('o', over), ('u', under)]\n",
    "pipeline = Pipeline(steps=steps)\n",
    "\n",
    "X_smote, y_smote = pipeline.fit_resample(X, y)\n",
    "\n",
    "counter = Counter(y_smote)"
   ]
  },
  {
   "cell_type": "code",
   "execution_count": null,
   "id": "3a626214",
   "metadata": {},
   "outputs": [],
   "source": [
    "finalDf = pd.concat([X_smote,y_smote], axis=1)"
   ]
  },
  {
   "cell_type": "code",
   "execution_count": null,
   "id": "047c7547",
   "metadata": {},
   "outputs": [],
   "source": [
    "destS3Url = <dest_s3_url>"
   ]
  },
  {
   "cell_type": "code",
   "execution_count": null,
   "id": "350db817",
   "metadata": {},
   "outputs": [],
   "source": [
    "finalDf.to_csv(destS3Url + \"SMOTE_Samples_from_ReviewedCases.csv\", index=False)"
   ]
  }
 ],
 "metadata": {
  "kernelspec": {
   "display_name": "conda_python3",
   "language": "python",
   "name": "conda_python3"
  },
  "language_info": {
   "codemirror_mode": {
    "name": "ipython",
    "version": 3
   },
   "file_extension": ".py",
   "mimetype": "text/x-python",
   "name": "python",
   "nbconvert_exporter": "python",
   "pygments_lexer": "ipython3",
   "version": "3.6.13"
  }
 },
 "nbformat": 4,
 "nbformat_minor": 5
}
