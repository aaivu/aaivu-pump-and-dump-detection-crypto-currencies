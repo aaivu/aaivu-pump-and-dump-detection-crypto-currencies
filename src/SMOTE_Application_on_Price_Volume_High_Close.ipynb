{
 "cells": [
  {
   "cell_type": "code",
   "execution_count": null,
   "id": "7a04e187",
   "metadata": {},
   "outputs": [],
   "source": [
    "!pip install dateparser"
   ]
  },
  {
   "cell_type": "code",
   "execution_count": null,
   "id": "53d10fa4",
   "metadata": {},
   "outputs": [],
   "source": [
    "!pip install tqdm\n",
    "from tqdm import tqdm"
   ]
  },
  {
   "cell_type": "code",
   "execution_count": null,
   "id": "4f68f318",
   "metadata": {},
   "outputs": [],
   "source": [
    "!pip install imblearn"
   ]
  },
  {
   "cell_type": "code",
   "execution_count": null,
   "id": "46658c9b",
   "metadata": {},
   "outputs": [],
   "source": [
    "import os\n",
    "import boto3\n",
    "import pandas as pd\n",
    "import sys\n",
    "from datetime import datetime\n",
    "from datetime import timedelta \n",
    "from matplotlib import pyplot\n",
    "import numpy as np\n",
    "import matplotlib.pyplot as plt\n",
    "import io\n",
    "import time\n",
    "from sklearn.preprocessing import MinMaxScaler\n",
    "import gc\n",
    "import psutil\n",
    "import seaborn as sns\n",
    "from sklearn.decomposition import PCA as sklearnPCA\n",
    "from sklearn.discriminant_analysis import LinearDiscriminantAnalysis as LDA"
   ]
  },
  {
   "cell_type": "code",
   "execution_count": null,
   "id": "345a9278",
   "metadata": {},
   "outputs": [],
   "source": [
    "BUCKET_NAME = <s3_bucket_name>\n",
    "\n",
    "DATA_POINTS_PER_WINDOW = 21\n",
    "\n",
    "s3Res = boto3.resource('s3')\n",
    "bucket = s3Res.Bucket(BUCKET_NAME)\n",
    "commonPath = <s3_path>\n",
    "labelledDataCommonPath = '{}/LabelledData15PPnd'.format(commonPath)\n",
    "\n",
    "s3Client = boto3.client('s3')"
   ]
  },
  {
   "cell_type": "code",
   "execution_count": null,
   "id": "c6cf0ee4",
   "metadata": {},
   "outputs": [],
   "source": [
    "my_bucket = s3Res.Bucket(BUCKET_NAME)"
   ]
  },
  {
   "cell_type": "code",
   "execution_count": null,
   "id": "f1831827",
   "metadata": {},
   "outputs": [],
   "source": [
    "fileName = '{}/Price_Volume_15PPND_Labels/SMOTE_Samples_from_ReviewedCases.csv'.format(labelledDataCommonPath)\n",
    "obj = s3Client.get_object(Bucket = BUCKET_NAME, Key = fileName)\n",
    "smoteSamplesDf = pd.read_csv(obj['Body'])\n",
    "smoteSamplesDf.head()"
   ]
  },
  {
   "cell_type": "code",
   "execution_count": null,
   "id": "4bb6d3f7",
   "metadata": {},
   "outputs": [],
   "source": [
    "sns.countplot(x=smoteSamplesDf.Label)"
   ]
  },
  {
   "cell_type": "code",
   "execution_count": null,
   "id": "224028ed",
   "metadata": {},
   "outputs": [],
   "source": [
    "smoteX = smoteSamplesDf.iloc[:,:-1]"
   ]
  },
  {
   "cell_type": "code",
   "execution_count": null,
   "id": "203c3526",
   "metadata": {},
   "outputs": [],
   "source": [
    "smoteY=smoteSamplesDf.iloc[:,-1]"
   ]
  },
  {
   "cell_type": "code",
   "execution_count": null,
   "id": "6d568c47",
   "metadata": {},
   "outputs": [],
   "source": [
    "X_norm = (smoteX - smoteX.min())/(smoteX.max() - smoteX.min())"
   ]
  },
  {
   "cell_type": "code",
   "execution_count": null,
   "id": "31b14dc1",
   "metadata": {},
   "outputs": [],
   "source": [
    "pca = sklearnPCA(n_components=2) #2-dimensional PCA\n",
    "transformed = pd.DataFrame(pca.fit_transform(X_norm))"
   ]
  },
  {
   "cell_type": "code",
   "execution_count": null,
   "id": "9fd7a1c5",
   "metadata": {},
   "outputs": [],
   "source": [
    "plt.scatter(transformed[smoteY==0][0], transformed[smoteY==0][1], label='No-PND', c='blue', marker='x')\n",
    "plt.scatter(transformed[smoteY==1][0], transformed[smoteY==1][1], label='PND', c='red', marker='.')\n",
    "\n",
    "plt.legend()\n",
    "plt.show()"
   ]
  },
  {
   "cell_type": "code",
   "execution_count": null,
   "id": "08867926",
   "metadata": {},
   "outputs": [],
   "source": [
    "csvFileList = []\n",
    "\n",
    "for my_bucket_object in my_bucket.objects.filter(Prefix='{}/EnrichedData_15P_PND/'.format(commonPath)):\n",
    "    if '.csv' in my_bucket_object.key:\n",
    "        print(my_bucket_object.key)\n",
    "        csvFileList.append(my_bucket_object.key)"
   ]
  },
  {
   "cell_type": "code",
   "execution_count": null,
   "id": "df042a07",
   "metadata": {},
   "outputs": [],
   "source": [
    "def applyWindowValues(targetDf, targetDfIndex, featureName, smoteDf, smoteIndex, windowSize = 10):  \n",
    "    featureNames = []\n",
    "    for i in reversed(range(1, windowSize+1)):\n",
    "        featureNames.append('{} t-{}'.format(featureName, i))\n",
    "    \n",
    "    featureNames.append(featureName)\n",
    "    \n",
    "    for i in range(1, windowSize+1):\n",
    "        featureNames.append('{} t+{}'.format(featureName, i))\n",
    "    \n",
    "    smoteIndex = pd.Index([smoteIndex])\n",
    "    \n",
    "    if ( len(targetDf.loc[(targetDfIndex - timedelta(minutes=windowSize)):(targetDfIndex +  timedelta(minutes=windowSize)), featureName]) != len((smoteDf.loc[smoteIndex,featureNames].values[0])) ):\n",
    "        print(\"{} not changed due to inconistant length at {} returning..\".format(featureName, targetDfIndex))\n",
    "        return\n",
    "\n",
    "    if ( (targetDf.loc[(targetDfIndex - timedelta(minutes=windowSize)), featureName]) == 0) :\n",
    "        targetDf.loc[(targetDfIndex - timedelta(minutes=windowSize)):(targetDfIndex + timedelta(minutes=windowSize)), featureName] = (smoteDf.loc[smoteIndex,featureNames].values[0])\n",
    "    elif ( (smoteDf.loc[smoteIndex, featureNames].values[0][0]) > 0 ):\n",
    "        targetDf.loc[(targetDfIndex - timedelta(minutes=windowSize)):(targetDfIndex + timedelta(minutes=windowSize)), featureName] = (smoteDf.loc[smoteIndex,featureNames].values[0]) * (targetDf.loc[(targetDfIndex - timedelta(minutes=windowSize)), featureName]) / (smoteDf.loc[smoteIndex,featureNames].values[0][0])\n",
    "    else:\n",
    "        targetDf.loc[(targetDfIndex - timedelta(minutes=windowSize)):(targetDfIndex + timedelta(minutes=windowSize)), featureName] = (smoteDf.loc[smoteIndex,featureNames].values[0])"
   ]
  },
  {
   "cell_type": "code",
   "execution_count": null,
   "id": "cf45004a",
   "metadata": {},
   "outputs": [],
   "source": [
    "def pickDistributedIndexes(df, segment = 180, windowSize=10):\n",
    "    selection = []\n",
    "    tot = len(df.index)    \n",
    "    \n",
    "    for i in range(30, tot, segment):\n",
    "        y = df.loc[(df.index[i] - timedelta(minutes=windowSize)):(df.index[i] + timedelta(minutes=windowSize))].sample(1).index[0]\n",
    "        selection.append(y)\n",
    "    \n",
    "    return selection"
   ]
  },
  {
   "cell_type": "code",
   "execution_count": null,
   "id": "4f5ab054",
   "metadata": {},
   "outputs": [],
   "source": [
    "def applySmoteSamples(targetDf, smoteDf, windowSize=10):\n",
    "    targetSampleIndexes = pickDistributedIndexes(targetDf)\n",
    "    \n",
    "    print(\"selected target indexes len={}\".format(len(targetSampleIndexes)))\n",
    "    \n",
    "    numberOfSampleToApply = len(targetSampleIndexes)\n",
    "    \n",
    "    smoteSampleIndexesNegative = smoteDf[smoteDf.Label==0].sample(int(numberOfSampleToApply/10)).index\n",
    "    smoteSampleIndexesPositive = smoteDf[smoteDf.Label==1].sample(numberOfSampleToApply-int(numberOfSampleToApply/10)).index\n",
    "    smoteSampleIndexes = smoteSampleIndexesPositive.union(smoteSampleIndexesNegative)\n",
    "    \n",
    "    print(\"Smote negative indexes len={}\".format(len(smoteSampleIndexesNegative)))\n",
    "    print(\"Smote positive indexes len={}\".format(len(smoteSampleIndexesPositive)))\n",
    "\n",
    "    for i in range(numberOfSampleToApply):\n",
    "        x = pd.Index([smoteSampleIndexes[i]])\n",
    "        targetDf.loc[targetSampleIndexes[i], 'Label'] = smoteDf.loc[x, 'Label'].values[0]\n",
    "        \n",
    "        applyWindowValues(targetDf, targetSampleIndexes[i] , 'Price', smoteDf, smoteSampleIndexes[i], windowSize)\n",
    "        applyWindowValues(targetDf, targetSampleIndexes[i] , 'Volume', smoteDf, smoteSampleIndexes[i], windowSize)\n",
    "        applyWindowValues(targetDf, targetSampleIndexes[i] , 'High', smoteDf, smoteSampleIndexes[i], windowSize)\n",
    "        applyWindowValues(targetDf, targetSampleIndexes[i] , 'Close', smoteDf, smoteSampleIndexes[i], windowSize)"
   ]
  },
  {
   "cell_type": "code",
   "execution_count": null,
   "id": "30520308",
   "metadata": {
    "scrolled": true
   },
   "outputs": [],
   "source": [
    "cpdf = sampleDf.copy()\n",
    "applySmoteSamples(sampleDf, smoteSamplesDf, 10)\n",
    "sampleDf.head()"
   ]
  },
  {
   "cell_type": "code",
   "execution_count": null,
   "id": "8db097bf",
   "metadata": {},
   "outputs": [],
   "source": [
    "fig, ax = plt.subplots(figsize=(20,10))\n",
    "index=sampleDf[sampleDf.Label==1].index[6]\n",
    "timeDeltaFromCenter=30\n",
    "featureName='Volume'\n",
    "\n",
    "cpdf.loc[(index - timedelta(minutes=timeDeltaFromCenter)):(index +  timedelta(minutes=timeDeltaFromCenter)), featureName].plot(kind='line', color='black', legend=True, marker='.', linewidth=0.75)\n",
    "ax.legend(prop={\"size\":20}, loc='upper right')\n",
    "plt.grid(axis='both', which='both', color='g', linestyle='--', linewidth=1)\n",
    "fig.suptitle('Volume before SMOTE', fontsize=20)"
   ]
  },
  {
   "cell_type": "code",
   "execution_count": null,
   "id": "475f6328",
   "metadata": {},
   "outputs": [],
   "source": [
    "fig, ax = plt.subplots(figsize=(20,10))\n",
    "index=sampleDf[sampleDf.Label==1].index[6]\n",
    "timeDeltaFromCenter=30\n",
    "featureName='Volume'\n",
    "\n",
    "sampleDf.loc[(index - timedelta(minutes=timeDeltaFromCenter)):(index +  timedelta(minutes=timeDeltaFromCenter)), featureName].plot(kind='line', color='black', legend=True, marker='.', linewidth=0.75)\n",
    "ax.legend(prop={\"size\":20}, loc='upper right')\n",
    "plt.grid(axis='both', which='both', color='g', linestyle='--', linewidth=1)\n",
    "fig.suptitle('Volume After SMOTE', fontsize=20)"
   ]
  },
  {
   "cell_type": "code",
   "execution_count": null,
   "id": "f2458f60",
   "metadata": {},
   "outputs": [],
   "source": [
    "fig, ax = plt.subplots(figsize=(20,10))\n",
    "index=sampleDf[sampleDf.Label==1].index[5]\n",
    "timeDeltaFromCenter=10\n",
    "featureName='Price'\n",
    "\n",
    "cpdf.loc[(index - timedelta(minutes=2*timeDeltaFromCenter)):(index - timedelta(minutes=timeDeltaFromCenter)), featureName].plot(kind='line', color='black', legend=True, marker='.', linewidth=0.75)\n",
    "ax.legend(prop={\"size\":20}, loc='upper right')\n",
    "plt.grid(axis='both', which='both', color='g', linestyle='--', linewidth=1)\n",
    "fig.suptitle('Price before SMOTE', fontsize=20)"
   ]
  },
  {
   "cell_type": "code",
   "execution_count": null,
   "id": "e630891d",
   "metadata": {},
   "outputs": [],
   "source": [
    "fig, ax = plt.subplots(figsize=(20,10))\n",
    "index=sampleDf[sampleDf.Label==1].index[5]\n",
    "timeDeltaFromCenter=10\n",
    "featureName='Price'\n",
    "\n",
    "sampleDf.loc[(index - timedelta(minutes=2*timeDeltaFromCenter)):(index - timedelta(minutes=timeDeltaFromCenter)), featureName].plot(kind='line', color='black', legend=True, marker='.', linewidth=0.75)\n",
    "ax.legend(prop={\"size\":20}, loc='upper right')\n",
    "plt.grid(axis='both', which='both', color='g', linestyle='--', linewidth=1)\n",
    "fig.suptitle('Price before SMOTE', fontsize=20)"
   ]
  },
  {
   "cell_type": "code",
   "execution_count": null,
   "id": "17ea7d06",
   "metadata": {},
   "outputs": [],
   "source": [
    "def insertleftRightWindowFeatues(df, featureName, windowSize=10):\n",
    "    for i in range(1, windowSize+1):\n",
    "        df[\"{} t-{}\".format(featureName, i)] = df[featureName].shift(-i).fillna(method='ffill')\n",
    "    \n",
    "    for i in range(1, windowSize+1):\n",
    "        df[\"{} t+{}\".format(featureName, i)] = df[featureName].shift(i).fillna(method='backfill')"
   ]
  },
  {
   "cell_type": "code",
   "execution_count": null,
   "id": "f21ec893",
   "metadata": {},
   "outputs": [],
   "source": [
    "destS3Url = <destination_s3_url>"
   ]
  },
  {
   "cell_type": "code",
   "execution_count": null,
   "id": "d4871879",
   "metadata": {
    "scrolled": false
   },
   "outputs": [],
   "source": [
    "for file_name in tqdm(csvFileList[150:]):\n",
    "    new_fileName = 'Smoted_' + file_name.split('/')[-1].split('Enriched_')[-1]\n",
    "    print(destS3Url + new_fileName)\n",
    "    \n",
    "    obj = s3Client.get_object(Bucket = BUCKET_NAME, Key = file_name )\n",
    "    smotedDf = pd.read_csv(obj['Body'], index_col='0', parse_dates=True)\n",
    "\n",
    "    smotedDf.drop(['Open','Low','Number of Trades','Turnover','isOpenToClosePriceAbove15P','isWindowClosingTurnoverSignificant','isLeftWindowPumping','isRightWindowDumping'], axis=1, inplace=True)\n",
    "    smotedDf['Label'] = 0\n",
    "\n",
    "    applySmoteSamples(smotedDf, smoteSamplesDf, 10)  \n",
    "\n",
    "    smotedDf.to_csv(destS3Url + new_fileName, index=True)"
   ]
  }
 ],
 "metadata": {
  "kernelspec": {
   "display_name": "conda_python3",
   "language": "python",
   "name": "conda_python3"
  },
  "language_info": {
   "codemirror_mode": {
    "name": "ipython",
    "version": 3
   },
   "file_extension": ".py",
   "mimetype": "text/x-python",
   "name": "python",
   "nbconvert_exporter": "python",
   "pygments_lexer": "ipython3",
   "version": "3.6.13"
  }
 },
 "nbformat": 4,
 "nbformat_minor": 5
}
